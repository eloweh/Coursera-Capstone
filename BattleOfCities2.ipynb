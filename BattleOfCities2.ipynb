{
 "cells": [
  {
   "cell_type": "markdown",
   "metadata": {},
   "source": [
    "# Battle of the Neighborhoods\n",
    "\n",
    "## Data Collected"
   ]
  },
  {
   "cell_type": "markdown",
   "metadata": {},
   "source": [
    "#### Primary location: New York City\n",
    "The following data will be utilized to evaluate New York City as the primary market for potential restaurant locations."
   ]
  },
  {
   "cell_type": "markdown",
   "metadata": {},
   "source": [
    "#### Data 1: \n",
    "The dataset that we will be utilizing to provide a proper assessment can be reviewed here:  \n",
    "https://geo.nyu.edu/catalog/nyu_2451_34572  \n",
    "The data is segmented into a total of 5 boroughs consisting of 306 neighborhoods that we will be exploring based on longitude and latitude of each neighboring community. \n",
    "\n",
    "#### Data 2:\n",
    "The 2nd dataset will provide us with data of local eateries in New York City consisting of mobile food trucks, food carts, snack bars and restaurants.   https://data.cityofnewyork.us/Recreation/Directory-of-Eateries/8792-ebcp\n",
    "\n",
    "This dataset also includes a list of urban agricultural sites that can be utilize for city gardens and urban farms.  \n",
    "https://data.cityofnewyork.us/Environment/City-owned-sites-that-are-available-and-potentiall/qchy-end3  \n",
    "Having access to organic and vegan products in a major city like New York is vital to operating a restaurant."
   ]
  },
  {
   "cell_type": "markdown",
   "metadata": {},
   "source": [
    "#### Data 3:\n",
    "Wikipedia is our main resource for our 3rd dataset.\n",
    "1.\tPopulation of New York City.  \n",
    "2.\tDemographic of New York City.\n",
    "3.\tList of Cuisines of New York City.  \n",
    "Links to Wikipedia sources:  \n",
    "https://en.wikipedia.org/wiki/New_York_City  \n",
    "https://en.wikipedia.org/wiki/Economy_of_New_York_City  \n",
    "https://en.wikipedia.org/wiki/Portal:New_York_City  \n",
    "https://en.wikipedia.org/wiki/Cuisine_of_New_York_City  \n",
    "\n",
    "#### Data 4:\n",
    "Foursquare API will provide the content needed in order to discover venues for each New York City neighborhood in our initial dataset. (5 Borough and 306 Neighborhoods) "
   ]
  },
  {
   "cell_type": "code",
   "execution_count": null,
   "metadata": {},
   "outputs": [],
   "source": []
  }
 ],
 "metadata": {
  "kernelspec": {
   "display_name": "Python",
   "language": "python",
   "name": "conda-env-python-py"
  },
  "language_info": {
   "codemirror_mode": {
    "name": "ipython",
    "version": 3
   },
   "file_extension": ".py",
   "mimetype": "text/x-python",
   "name": "python",
   "nbconvert_exporter": "python",
   "pygments_lexer": "ipython3",
   "version": "3.6.7"
  }
 },
 "nbformat": 4,
 "nbformat_minor": 4
}
