{
 "cells": [
  {
   "cell_type": "markdown",
   "metadata": {},
   "source": [
    "# Battle of the Neighborhoods\n",
    "\n",
    "## Introduction and Business Problem\n",
    "\n",
    "### Problem Background"
   ]
  },
  {
   "cell_type": "markdown",
   "metadata": {},
   "source": [
    "In this module we will evaluate the competitive market and opportunity cost associated with doing business in New York City, NY.  Since the establishment of the US, New York City has been the leader in driving revenue for the nation in every facet. From being the financial capital of the US coupled with its attractiveness to international business New York City has attracted many diverse cultures, heritages, and ethnicities.  With that comes the ability to create a niche business or compete in the open market while minimizing downside risk.  The results from this module will enhance insight while translating the data in efforts to discover a strategic approach in local direct marketing.   "
   ]
  },
  {
   "cell_type": "markdown",
   "metadata": {},
   "source": [
    "### Problem Description"
   ]
  },
  {
   "cell_type": "markdown",
   "metadata": {},
   "source": [
    "With the emergence of the food culture and growth from self-proclaimed foodies New York City has become one of the primary cuisine hubs of the world.  There are no favorites which allows for ample opportunities for a restaurant investor who may be new to the area.  \n",
    "\n",
    "1.\tChinese, Japanese, Korean cuisines\n",
    "2.\tItalian Cuisine\n",
    "3.\tBrazilian Cuisine\n",
    "4.\tCajun Cuisine\n",
    "5.\tJamaican, Caribbean\n",
    "6.\tGreek Cuisine\n",
    "7.\tIndian Cuisine\n",
    "8.\tJewish Cuisine\n",
    "9.\tMexican Cuisine\n",
    "10.\tThai Cuisine\n",
    "11.\tMediterranean Cuisine\n",
    "12.\tAmerican Cuisine\n",
    "13.\tFrench Cuisine"
   ]
  },
  {
   "cell_type": "markdown",
   "metadata": {},
   "source": [
    "With all the cuisine choices you can understand exactly how competitive and overwhelming a simple food choice can be.  Add in food trucks, bodegas, and fusion restaurants just to name a few niches.  Somethings to consider before opening a new restaurant location in New York City are:\n",
    "\n",
    "1.\tCurrent population and tourism in New York City.\n",
    "2.\tDiversity of demographics, heritages, ethnicities of New York City.\n",
    "3.\tOpportunity cost to provide organic and vegan products from local farmers markets.\n",
    "4.\tDistance from entertainment and multipurpose areas and food selection.\n",
    "5.\tStatistics on Untapped and Saturated areas\n",
    "6.\tTop competitors in those markets\n",
    "7.\tCuisine Options \n",
    "8.\tSegmentation of the Boroughs\n",
    "\n",
    "This research was designed based on the companies goal to obtain multiple locations over the next five years. Along with franchising the importance of current market data will strategically expedite revenue and return on investment."
   ]
  },
  {
   "cell_type": "markdown",
   "metadata": {},
   "source": [
    "### Target Audience\n",
    "\n",
    "I was brought on to this project to lead the team of data scientist due to my vast knowledge of the area and industry.   My team and I will discover opportunities and make recommendations for future locations across New York City.  We understand how vital this initial location is to the growth of the overall portfolio and pride ourselves on following through for years to come. \n",
    "\n",
    "### Success Criteria\n",
    "\n",
    "The success of this project will be based off of the immediate ability to generate profits based on the marketing efforts from research.  If this initial location can maintain profitability for two years Lipsey Enterprise will invest in another location in emerging markets."
   ]
  }
 ],
 "metadata": {
  "kernelspec": {
   "display_name": "Python",
   "language": "python",
   "name": "conda-env-python-py"
  },
  "language_info": {
   "codemirror_mode": {
    "name": "ipython",
    "version": 3
   },
   "file_extension": ".py",
   "mimetype": "text/x-python",
   "name": "python",
   "nbconvert_exporter": "python",
   "pygments_lexer": "ipython3",
   "version": "3.6.7"
  }
 },
 "nbformat": 4,
 "nbformat_minor": 4
}
